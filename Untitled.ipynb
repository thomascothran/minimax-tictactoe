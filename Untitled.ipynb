{
 "cells": [
  {
   "cell_type": "code",
   "execution_count": 1,
   "metadata": {},
   "outputs": [
    {
     "name": "stdout",
     "output_type": "stream",
     "text": [
      "[Array] [1,2]\n"
     ]
    }
   ],
   "source": [
    "def solution(node=None, maxMax=None):\n",
    "    if not node or not node.data\n",
    "        return True\n",
    "    elif node.left and node.left.data > node.data:\n",
    "        return False\n",
    "    elif node.right and node.right.data:\n",
    "        if not node.right.data > node.data:\n",
    "            return False\n",
    "        if maxMax:\n",
    "            if not node.right.data < maxMax:\n",
    "                return False\n",
    "        else:\n",
    "            pass\n",
    "    else:\n",
    "        return solution(node.left, node.data) and solution(node.right, node.data)"
   ]
  },
  {
   "cell_type": "code",
   "execution_count": null,
   "metadata": {
    "collapsed": true
   },
   "outputs": [],
   "source": []
  }
 ],
 "metadata": {
  "kernelspec": {
   "display_name": "Python 3",
   "language": "python",
   "name": "python3"
  },
  "language_info": {
   "codemirror_mode": {
    "name": "ipython",
    "version": 3
   },
   "file_extension": ".py",
   "mimetype": "text/x-python",
   "name": "python",
   "nbconvert_exporter": "python",
   "pygments_lexer": "ipython3",
   "version": "3.5.2"
  }
 },
 "nbformat": 4,
 "nbformat_minor": 2
}
